{
 "cells": [
  {
   "cell_type": "markdown",
   "metadata": {},
   "source": [
    "# Map and Lambda Function\n",
    "Let's learn some new Python concepts! You have to generate a list of the first **N** fibonacci numbers, **0** being the first number. Then, apply the map function and a lambda expression to cube each fibonacci number and print the list.\n",
    "\n",
    "### Concept\n",
    "\n",
    "The map() function applies a function to every member of an iterable and returns the result. It takes two parameters: first, the function that is to be applied and secondly, the iterables.\n",
    "Let's say you are given a list of names, and you have to print a list that contains the length of each name.\n",
    "```python\n",
    ">> print (list(map(len, ['Tina', 'Raj', 'Tom'])))  \n",
    "[4, 3, 3]  \n",
    "```\n",
    "Lambda is a single expression anonymous function often used as an inline function. In simple words, it is a function that has only one line in its body. It proves very handy in functional and GUI programming.\n",
    "```python\n",
    ">> sum = lambda a, b, c: a + b + c\n",
    ">> sum(1, 2, 3)\n",
    "6\n",
    "```\n",
    "\n",
    "#### Note:\n",
    "\n",
    "Lambda functions cannot use the return statement and can only have a single expression. Unlike def, which creates a function and assigns it a name, lambda creates a function and returns the function itself. Lambda can be used inside lists and dictionaries.\n",
    "\n",
    "### Input Format\n",
    "One line of input: an integer **N**.\n",
    "\n",
    "### Constraints\n",
    "$0 \\leq N \\leq 15$\n",
    "\n",
    "### Output Format\n",
    "\n",
    "A list on a single line containing the cubes of the first **N** fibonacci numbers.\n",
    "\n",
    "#### Sample Input\n",
    "\n",
    "5\n",
    "\n",
    "#### Sample Output\n",
    "\n",
    "[0, 1, 1, 8, 27]\n",
    "\n",
    "### Explanation\n",
    "\n",
    "The first **5** fibonacci numbers are $[0, 1, 1, 2, 3]$, and their cubes are $[0, 1, 1, 8, 27]$."
   ]
  },
  {
   "cell_type": "code",
   "execution_count": 11,
   "metadata": {},
   "outputs": [
    {
     "name": "stdout",
     "output_type": "stream",
     "text": [
      "4\n",
      "[0, 1, 1, 2]\n",
      "[0, 1, 1, 8]\n"
     ]
    }
   ],
   "source": [
    "# Input integer N\n",
    "N = int(input())\n",
    "\n",
    "a, b = 0, 1 \n",
    "if(N==0):\n",
    "    fib = []\n",
    "else:    \n",
    "    fib = [a]\n",
    "    for i in range(N - 1):\n",
    "        fib.append(b)\n",
    "        a, b = b, a + b\n",
    "\n",
    "fib_cube = list(map(lambda x:x**3,fib))\n",
    "print(fib)\n",
    "print(fib_cube)\n"
   ]
  },
  {
   "cell_type": "code",
   "execution_count": 12,
   "metadata": {},
   "outputs": [
    {
     "data": {
      "text/plain": [
       "[0, 1, 1, 2, 3]"
      ]
     },
     "execution_count": 12,
     "metadata": {},
     "output_type": "execute_result"
    }
   ],
   "source": [
    "cube = lambda x: x**3 # complete the lambda function \n",
    "\n",
    "def fibonacci(n):\n",
    "    # return a list of fibonacci numbers\n",
    "    if(n==0):\n",
    "        return []\n",
    "    else:\n",
    "        a, b = 0, 1 \n",
    "        fib = [a]\n",
    "        for i in range(n - 1):\n",
    "            fib.append(b)\n",
    "            a, b = b, a + b\n",
    "        return fib\n",
    "fibonacci(5)"
   ]
  },
  {
   "cell_type": "markdown",
   "metadata": {},
   "source": [
    "# Validating Email Addresses With a Filter\n",
    "You are given an integer **N** followed by **N** email addresses. Your task is to print a list containing only valid email addresses in lexicographical order.\n",
    "\n",
    "Valid email addresses must follow these rules:\n",
    "\n",
    "* It must have the username@websitename.extension format type.\n",
    "* The username can only contain letters, digits, dashes and underscores.\n",
    "* The website name can only have letters and digits.\n",
    "* The maximum length of the extension is **3**.\n",
    "\n",
    "### Concept\n",
    "\n",
    "A filter takes a function returning True or False and applies it to a sequence, returning a list of only those members of the sequence where the function returned True. A Lambda function can be used with filters.\n",
    "\n",
    "Let's say you have to make a list of the squares of integers from **0** to **9** (both included).\n",
    "```python\n",
    ">> l = list(range(10))\n",
    ">> l = list(map(lambda x:x*x, l))\n",
    "```\n",
    "Now, you only require those elements that are greater than **10** but less than **80**.\n",
    "```python\n",
    ">> l = list(filter(lambda x: x > 10 and x < 80, l))\n",
    "```\n",
    "Easy, isn't it?\n",
    "\n",
    "### Input Format\n",
    "\n",
    "* The first line of input is the integer **N**, the number of email addresses.\n",
    "* **N** lines follow, each containing a string.\n",
    "\n",
    "### Constraints\n",
    "\n",
    "Each line is a non-empty string.\n",
    "\n",
    "### Output Format\n",
    "\n",
    "Output a list containing the valid email addresses in lexicographical order. If the list is empty, just output an empty list, [].\n",
    "\n",
    "### Sample Input\n",
    "\n",
    "3  \n",
    "lara@hackerrank.com  \n",
    "brian-23@hackerrank.com  \n",
    "britts_54@hackerrank.com\n",
    "\n",
    "### Sample Output\n",
    "\n",
    "['brian-23@hackerrank.com', 'britts_54@hackerrank.com', 'lara@hackerrank.com']\n"
   ]
  },
  {
   "cell_type": "code",
   "execution_count": 11,
   "metadata": {},
   "outputs": [
    {
     "name": "stdout",
     "output_type": "stream",
     "text": [
      "2\n",
      "rajes_1@gmail.com\n",
      "vidya-12@devine.org\n",
      "['rajes_1@gmail.com', 'vidya-12@devine.org']\n"
     ]
    }
   ],
   "source": [
    "def fun(s):\n",
    "    # return True if s is a valid email, else return False\n",
    "    try:\n",
    "        username,domain = s.split('@')\n",
    "        website, extension = domain.split('.')\n",
    "    except ValueError:\n",
    "        return False\n",
    "    if(((username.replace(\"-\",\"\")).replace(\"_\",\"\").isalnum()) is False):\n",
    "        return False\n",
    "    elif(website.isalnum() is False):\n",
    "        return False\n",
    "    elif(len(extension) > 3):\n",
    "        return False\n",
    "    else:\n",
    "        return True\n",
    "#def fun(s):\n",
    "#    a = re.match('[a-zA-Z0-9_-]+@[a-zA-Z0-9]+\\.[a-zA-Z]{1,3}$',s)\n",
    "#    return a\n",
    "\n",
    "def filter_mail(emails):\n",
    "    return list(filter(fun,emails))\n",
    "\n",
    "if __name__ == '__main__':\n",
    "    # Input the number of email-addresses\n",
    "    N = int(input())\n",
    "    emails = []\n",
    "    for _ in range(N):\n",
    "        emails.append(input())\n",
    "\n",
    "filtered_emails = filter_mail(emails)\n",
    "filtered_emails.sort()\n",
    "print(filtered_emails)\n",
    "        \n",
    "    "
   ]
  },
  {
   "cell_type": "code",
   "execution_count": 13,
   "metadata": {},
   "outputs": [
    {
     "name": "stdout",
     "output_type": "stream",
     "text": [
      "2\n",
      "raja_2@gmail.com\n",
      "sam-2@joma.poga\n",
      "['raja_2@gmail.com']\n"
     ]
    }
   ],
   "source": [
    "import re\n",
    "def fun(s):\n",
    "    a = re.match('[a-zA-Z0-9_-]+@[a-zA-Z0-9]+\\.[a-zA-Z]{1,3}$',s)\n",
    "    return a\n",
    "\n",
    "def filter_mail(emails):\n",
    "    return list(filter(fun,emails))\n",
    "\n",
    "if __name__ == '__main__':\n",
    "    # Input the number of email-addresses\n",
    "    N = int(input())\n",
    "    emails = []\n",
    "    for _ in range(N):\n",
    "        emails.append(input())\n",
    "\n",
    "filtered_emails = filter_mail(emails)\n",
    "filtered_emails.sort()\n",
    "print(filtered_emails)\n",
    "        "
   ]
  },
  {
   "cell_type": "markdown",
   "metadata": {},
   "source": [
    "# Reduce Function\n",
    "Given a list of rational numbers,find their product.\n",
    "\n",
    "### Concept\n",
    "The reduce() function applies a function of two arguments cumulatively on a list of objects in succession from left to right to reduce it to one value. Say you have a list, say [1,2,3] and you have to find its sum.\n",
    "```python\n",
    ">>> reduce(lambda x, y : x + y,[1,2,3])\n",
    "6\n",
    "```\n",
    "You can also define an initial value. If it is specified, the function will assume initial value as the value given, and then reduce. It is equivalent to adding the initial value at the beginning of the list. For example:\n",
    "\n",
    "```python\n",
    ">>> reduce(lambda x, y : x + y, [1,2,3], -3)\n",
    "3\n",
    "\n",
    ">>> from fractions import gcd\n",
    ">>> reduce(gcd, [2,4,8], 3)\n",
    "1\n",
    "```\n",
    "#### The source for the following information on reduce is: [Reduce](https://www.python-course.eu/python3_lambda.php).\n",
    "The function reduce(func, seq) continually applies the function func() to the sequence seq. It returns a single value. \n",
    "\n",
    "If $seq = [ s_1, s_2, s_3, ... , s_n ]$, calling reduce(func, seq) works like this:\n",
    "* At first the first two elements of seq will be applied to func, i.e. $func(s_1,s_2)$ The list on which reduce() works looks now like this: $[ func(s_1, s_2), s_3, ... , s_n ]$\n",
    "* In the next step func will be applied on the previous result and the third element of the list, i.e. $func(func(s_1, s_2),s_3)$\n",
    "* The list looks like this now: $[ func(func(s_1, s_2),s_3), ... , s_n ]$\n",
    "* Continue like this until just one element is left and return this element as the result of reduce()\n",
    "\n",
    "If n is equal to 4 the previous explanation can be illustrated like this:\n",
    "![Reduce](reduce.png)\n",
    "\n",
    "We want to illustrate this way of working of reduce() with a simple example. We have to import functools to be capable of using reduce:\n",
    "```python\n",
    ">>> import functools\n",
    ">>> functools.reduce(lambda x,y: x+y, [47,11,42,13])\n",
    "113\n",
    "```\n",
    "The following diagram shows the intermediate steps of the calculation: \n",
    "![Reduce Steps](reduce_diagram.png)\n",
    "### Input Format\n",
    "\n",
    "First line contains ***n***, the number of rational numbers.\n",
    "The $i^{th}$ of next ***n*** lines contain two integers each, the numerator($N_i$) and denominator($D_i$) of the $i^{th}$ rational number in the list.\n",
    "\n",
    "### Constraints\n",
    "* $1 \\leq n \\leq 100$\n",
    "* $1 \\leq N_i, D_i \\leq 10^9$\n",
    "\n",
    "### Output Format\n",
    "\n",
    "Print only one line containing the numerator and denominator of the product of the numbers in the list in its simplest form, i.e. numerator and denominator have no common divisor other than $1$.\n",
    "\n",
    "#### Sample Input 0\n",
    "\n",
    "3  \n",
    "1 2  \n",
    "3 4  \n",
    "10 6\n",
    "\n",
    "#### Sample Output 0\n",
    "\n",
    "5 8\n",
    "\n",
    "## Explanation 0\n",
    "\n",
    "Required product is $\\frac{1}{2}\\cdot\\frac{3}{4}\\cdot\\frac{10}{6}=\\frac{5}{8}$"
   ]
  },
  {
   "cell_type": "code",
   "execution_count": 20,
   "metadata": {},
   "outputs": [
    {
     "name": "stdout",
     "output_type": "stream",
     "text": [
      "3\n",
      "1 2\n",
      "3 4\n",
      "10 6\n",
      "[Fraction(1, 2), Fraction(3, 4), Fraction(5, 3)]\n",
      "5 8\n"
     ]
    }
   ],
   "source": [
    "from math import gcd\n",
    "from fractions import Fraction\n",
    "from functools import reduce\n",
    "\n",
    "def product(fracs):\n",
    "    t = reduce(lambda x, y: x * y, fracs)# complete this line with a reduce statement\n",
    "    return t.numerator, t.denominator\n",
    "\n",
    "if __name__ == '__main__':\n",
    "    fracs = []\n",
    "    for _ in range(int(input())):\n",
    "        fracs.append(Fraction(*map(int, input().split())))\n",
    "    print(fracs)\n",
    "    result = product(fracs)\n",
    "    print(*result)\n"
   ]
  },
  {
   "cell_type": "code",
   "execution_count": 24,
   "metadata": {},
   "outputs": [
    {
     "name": "stdout",
     "output_type": "stream",
     "text": [
      "3\n",
      "1 2\n",
      "3 4\n",
      "10 6\n",
      "Zip: [[1, 3, 10], [2, 4, 6]]\n",
      "5 8\n"
     ]
    }
   ],
   "source": [
    "from functools import reduce\n",
    "from math import gcd\n",
    "\n",
    "# Input Number of Rationals\n",
    "n = int(input())\n",
    "\n",
    "# Create a List of Rationals\n",
    "rationals = []\n",
    "\n",
    "# Append the List of Rationals\n",
    "for i in range(n):\n",
    "    rationals.append(list(map(int, input().split())))\n",
    "    \n",
    "# Create a New List by Zipping the element of each list\n",
    "# Using List Comprehension\n",
    "s = [list(a) for a in zip(*rationals)]\n",
    "print(\"Zip:\", s)\n",
    "\n",
    "k = [reduce(lambda x, y: x*y, s[i]) for i in range(2)]\n",
    "c = reduce(gcd, k)\n",
    "for i in range(2):\n",
    "    k[i] //= c\n",
    "print(*k)"
   ]
  },
  {
   "cell_type": "code",
   "execution_count": 23,
   "metadata": {},
   "outputs": [
    {
     "name": "stdout",
     "output_type": "stream",
     "text": [
      "[[1, 2], [3, 4], [10, 6]]\n",
      "[5, 8]\n"
     ]
    }
   ],
   "source": [
    "print(rationals)\n",
    "print(k)"
   ]
  },
  {
   "cell_type": "code",
   "execution_count": null,
   "metadata": {
    "collapsed": true
   },
   "outputs": [],
   "source": []
  }
 ],
 "metadata": {
  "kernelspec": {
   "display_name": "Python 3",
   "language": "python",
   "name": "python3"
  },
  "language_info": {
   "codemirror_mode": {
    "name": "ipython",
    "version": 3
   },
   "file_extension": ".py",
   "mimetype": "text/x-python",
   "name": "python",
   "nbconvert_exporter": "python",
   "pygments_lexer": "ipython3",
   "version": "3.6.4"
  }
 },
 "nbformat": 4,
 "nbformat_minor": 2
}
